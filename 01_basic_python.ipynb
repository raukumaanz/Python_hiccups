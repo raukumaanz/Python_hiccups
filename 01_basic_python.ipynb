{
 "cells": [
  {
   "cell_type": "code",
   "execution_count": 6,
   "id": "9e29f621-d20c-4b6e-9cc4-3fad1ce01bb9",
   "metadata": {},
   "outputs": [],
   "source": [
    "a=5"
   ]
  },
  {
   "cell_type": "code",
   "execution_count": 8,
   "id": "62ba26da-45be-4304-ac0f-de1d43e97737",
   "metadata": {},
   "outputs": [],
   "source": [
    "b=7"
   ]
  },
  {
   "cell_type": "code",
   "execution_count": 10,
   "id": "50c1a878-2bcd-46e7-b860-a49e25564c7b",
   "metadata": {},
   "outputs": [
    {
     "data": {
      "text/plain": [
       "12"
      ]
     },
     "execution_count": 10,
     "metadata": {},
     "output_type": "execute_result"
    }
   ],
   "source": [
    "a+b"
   ]
  },
  {
   "cell_type": "code",
   "execution_count": 12,
   "id": "6e9c700e-b967-43d7-bf8b-e9ca59cb9e32",
   "metadata": {},
   "outputs": [],
   "source": [
    "name=\"raushan\""
   ]
  },
  {
   "cell_type": "code",
   "execution_count": 14,
   "id": "067ec8d4-ec77-4aba-a204-9eebe48f8934",
   "metadata": {},
   "outputs": [
    {
     "name": "stdout",
     "output_type": "stream",
     "text": [
      "raushan\n"
     ]
    }
   ],
   "source": [
    "print(name)"
   ]
  },
  {
   "cell_type": "markdown",
   "id": "e56f3186-6a80-4fdd-a517-3fcaa196c4f9",
   "metadata": {},
   "source": [
    "# String Operations"
   ]
  },
  {
   "cell_type": "code",
   "execution_count": 17,
   "id": "a0afbf7f-3de2-441a-b01c-ebb5f99b8945",
   "metadata": {},
   "outputs": [],
   "source": [
    "name=\"Raushan\""
   ]
  },
  {
   "cell_type": "code",
   "execution_count": 19,
   "id": "52747a61-8e8b-42d3-9ccd-10be9ec724f2",
   "metadata": {},
   "outputs": [
    {
     "name": "stdout",
     "output_type": "stream",
     "text": [
      "Raushan\n"
     ]
    }
   ],
   "source": [
    "print(name)"
   ]
  },
  {
   "cell_type": "code",
   "execution_count": 21,
   "id": "eaf02f5d-7c73-4f02-a9d9-2d058d33deaf",
   "metadata": {},
   "outputs": [
    {
     "data": {
      "text/plain": [
       "<function str.upper()>"
      ]
     },
     "execution_count": 21,
     "metadata": {},
     "output_type": "execute_result"
    }
   ],
   "source": [
    "name.upper"
   ]
  },
  {
   "cell_type": "code",
   "execution_count": 23,
   "id": "a24394ce-89a0-4fe9-80bc-8d121f30979e",
   "metadata": {},
   "outputs": [
    {
     "name": "stdout",
     "output_type": "stream",
     "text": [
      "Raushan\n"
     ]
    }
   ],
   "source": [
    "print(name)"
   ]
  },
  {
   "cell_type": "code",
   "execution_count": 25,
   "id": "6e0e668b-fdf6-480a-8417-6c3f68a9d498",
   "metadata": {},
   "outputs": [
    {
     "data": {
      "text/plain": [
       "'RAUSHAN'"
      ]
     },
     "execution_count": 25,
     "metadata": {},
     "output_type": "execute_result"
    }
   ],
   "source": [
    "name.upper()"
   ]
  },
  {
   "cell_type": "code",
   "execution_count": 29,
   "id": "49f6e6c4-527b-4fd8-800b-e4ef6696970f",
   "metadata": {},
   "outputs": [
    {
     "data": {
      "text/plain": [
       "'Raush'"
      ]
     },
     "execution_count": 29,
     "metadata": {},
     "output_type": "execute_result"
    }
   ],
   "source": [
    "name[0:5]"
   ]
  },
  {
   "cell_type": "code",
   "execution_count": 31,
   "id": "a689a073-a136-465c-a871-d083b34916f8",
   "metadata": {},
   "outputs": [
    {
     "data": {
      "text/plain": [
       "78125"
      ]
     },
     "execution_count": 31,
     "metadata": {},
     "output_type": "execute_result"
    }
   ],
   "source": [
    "a**b"
   ]
  },
  {
   "cell_type": "code",
   "execution_count": 33,
   "id": "d8bbeab1-7e25-495b-99ea-a7b14becdc8f",
   "metadata": {},
   "outputs": [
    {
     "data": {
      "text/plain": [
       "0.7142857142857143"
      ]
     },
     "execution_count": 33,
     "metadata": {},
     "output_type": "execute_result"
    }
   ],
   "source": [
    "a/b"
   ]
  },
  {
   "cell_type": "code",
   "execution_count": 35,
   "id": "36501c16-026e-42d8-b513-8492195bc915",
   "metadata": {},
   "outputs": [
    {
     "data": {
      "text/plain": [
       "5"
      ]
     },
     "execution_count": 35,
     "metadata": {},
     "output_type": "execute_result"
    }
   ],
   "source": [
    "a%b"
   ]
  },
  {
   "cell_type": "markdown",
   "id": "51de28e0-4923-49c0-ac98-559c2caba84b",
   "metadata": {},
   "source": [
    "# User Input Examples"
   ]
  },
  {
   "cell_type": "code",
   "execution_count": 38,
   "id": "66f86e92-6d66-480b-bf66-3ec21969e57d",
   "metadata": {},
   "outputs": [
    {
     "name": "stdin",
     "output_type": "stream",
     "text": [
      "enter value of a 5\n"
     ]
    }
   ],
   "source": [
    "a = input(\"enter value of a\")"
   ]
  },
  {
   "cell_type": "code",
   "execution_count": 40,
   "id": "ee99117d-04aa-494b-ae5a-34b1ed352445",
   "metadata": {},
   "outputs": [
    {
     "data": {
      "text/plain": [
       "'5'"
      ]
     },
     "execution_count": 40,
     "metadata": {},
     "output_type": "execute_result"
    }
   ],
   "source": [
    "a"
   ]
  },
  {
   "cell_type": "markdown",
   "id": "726621ce-28b4-4bfe-83b5-74ae56f58854",
   "metadata": {},
   "source": [
    "# Operator precendence in Python"
   ]
  },
  {
   "cell_type": "code",
   "execution_count": 43,
   "id": "9b6bdd37-d1a1-4368-888a-813bc1ffd2ba",
   "metadata": {},
   "outputs": [
    {
     "data": {
      "text/plain": [
       "14134776518227074636666380005943348126619871175004951664972849610340958208"
      ]
     },
     "execution_count": 43,
     "metadata": {},
     "output_type": "execute_result"
    }
   ],
   "source": [
    "2**3**5"
   ]
  },
  {
   "cell_type": "code",
   "execution_count": null,
   "id": "b698e986-0093-49c4-a2c6-aae4cb89d101",
   "metadata": {},
   "outputs": [],
   "source": []
  }
 ],
 "metadata": {
  "kernelspec": {
   "display_name": "Python [conda env:base] *",
   "language": "python",
   "name": "conda-base-py"
  },
  "language_info": {
   "codemirror_mode": {
    "name": "ipython",
    "version": 3
   },
   "file_extension": ".py",
   "mimetype": "text/x-python",
   "name": "python",
   "nbconvert_exporter": "python",
   "pygments_lexer": "ipython3",
   "version": "3.12.7"
  }
 },
 "nbformat": 4,
 "nbformat_minor": 5
}
