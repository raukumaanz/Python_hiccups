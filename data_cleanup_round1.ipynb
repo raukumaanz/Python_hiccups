{
 "cells": [
  {
   "cell_type": "code",
   "execution_count": 39,
   "id": "65add992-2c4e-4e6c-81ee-99c633efd55e",
   "metadata": {},
   "outputs": [
    {
     "name": "stdout",
     "output_type": "stream",
     "text": [
      "{'users': [{'id': 1, 'name': 'Amit', 'friends': [2, 3], 'liked_pages': [101]}, {'id': 2, 'name': 'Priya', 'friends': [1, 4], 'liked_pages': [102]}, {'id': 4, 'name': 'Sara', 'friends': [2], 'liked_pages': [104]}], 'pages': [{'id': 101, 'name': 'Python Developers'}, {'id': 102, 'name': 'Data Science Enthusiasts'}, {'id': 103, 'name': 'AI & ML Community'}, {'id': 104, 'name': 'Web Development'}]}\n"
     ]
    }
   ],
   "source": [
    "import json\n",
    "\n",
    "#display data for better way to handle it\n",
    "def display_data(filename):\n",
    "    with open(filename,'r') as file:\n",
    "        data = json.load(file)\n",
    "    return data;\n",
    "\n",
    "\n",
    "\n",
    "\n",
    "def clean_data(data):\n",
    "    #Remove users with missing names.\n",
    "    data['users'] = [ user for user in data['users'] if user['name'].strip()]\n",
    "    # Remove duplicate friend entries.\n",
    "    for user in data['users']:\n",
    "        user['friends'] = list(set(user['friends']))\n",
    "    # Remove inactive users (users with no friends and no liked pages).\n",
    "    data['users'] = [ user for user in data['users'] if user['friends'] or user['liked_pages'] ]\n",
    "    # Deduplicate pages based on IDs.\n",
    "    new_dic = {}\n",
    "    for page in data['pages']:\n",
    "        new_dic[page['id']] = page\n",
    "    data['pages'] = list(new_dic.values())\n",
    "    return data\n",
    "    \n",
    "# Load, clean, and display the cleaned data\n",
    "data = json.load(open(\"data2.json\"))\n",
    "current_data = clean_data(current_data)\n",
    "json.dump(current_data, open(\"raushan.json\",\"w\"), indent=4)\n",
    "print(current_data)\n",
    "        "
   ]
  },
  {
   "cell_type": "code",
   "execution_count": null,
   "id": "2954acc6-284a-4332-98b9-71078ee770dd",
   "metadata": {},
   "outputs": [],
   "source": []
  }
 ],
 "metadata": {
  "kernelspec": {
   "display_name": "Python [conda env:base] *",
   "language": "python",
   "name": "conda-base-py"
  },
  "language_info": {
   "codemirror_mode": {
    "name": "ipython",
    "version": 3
   },
   "file_extension": ".py",
   "mimetype": "text/x-python",
   "name": "python",
   "nbconvert_exporter": "python",
   "pygments_lexer": "ipython3",
   "version": "3.12.7"
  }
 },
 "nbformat": 4,
 "nbformat_minor": 5
}
