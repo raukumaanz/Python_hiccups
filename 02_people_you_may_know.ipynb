{
 "cells": [
  {
   "cell_type": "markdown",
   "id": "a033a939-be69-48ad-9182-e5f20fdaa8d6",
   "metadata": {},
   "source": [
    "Task 1: Understand the Logic\n",
    "How 'People You May Know' Works:\n",
    "If User A and User B are not friends but have mutual friends, we suggest User B to User A and vice versa.\n",
    "More mutual friends = higher priority recommendation.\n",
    "Example:\n",
    "\n",
    "Amit (ID: 1) is friends with Priya (ID: 2) and Rahul (ID: 3).\n",
    "Priya (ID: 2) is friends with Sara (ID: 4).\n",
    "Amit is not directly friends with Sara, but they share Priya as a mutual friend.\n",
    "Suggest Sara to Amit as \"People You May Know\".\n",
    "But there are cases where we will have more than one \"People You May Know\". In those cases, greater the number of mutual friends, higher the probability that the user might know the person we are recommending.\n",
    "\n",
    "Task 2: Implement the Algorithm\n",
    "We'll create a function that:\n",
    "\n",
    "Finds all friends of a given user.\n",
    "Identifies mutual friends between non-friends.\n",
    "Ranks recommendations by the number of mutual friends.\n"
   ]
  },
  {
   "cell_type": "code",
   "execution_count": 46,
   "id": "b05e17eb-dd06-4d37-b2fe-1f54138ee9b1",
   "metadata": {},
   "outputs": [
    {
     "name": "stdout",
     "output_type": "stream",
     "text": [
      "direct friends for given 1 are : {2, 3, 4, 5, 6}\n",
      "People You May Know for User 1: [7, 8, 9, 10, 11, 12]\n"
     ]
    }
   ],
   "source": [
    "# writing recommandation logic to identify you may know feature\n",
    "import json\n",
    "# load file first\n",
    "def load_file(filename):\n",
    "    with open(filename, \"r\") as file:\n",
    "        return json.load(file)\n",
    "\n",
    "#find people you may know feature\n",
    "# so here we need to things to identify primary id of users and data\n",
    "def find_people_you_may_know(user_id,data):\n",
    "    #find friends for given user\n",
    "    user_friends = {}\n",
    "    for user in data[\"users\"]:\n",
    "        user_friends[user['id']] = set(user['friends'])\n",
    "    if user_id not in user_friends:\n",
    "        return []\n",
    "\n",
    "    direct_firends = user_friends[user_id]\n",
    "    print(f\"direct friends for given {user_id} are : {direct_firends}\")\n",
    "    suggessions = {}\n",
    "    for friend in direct_firends:\n",
    "         \n",
    "         for mutual in user_friends[friend]:\n",
    "             \n",
    "             if mutual != user_id and mutual not in direct_firends:\n",
    "                 \n",
    "                 #count mutual friends:\n",
    "                 suggessions[mutual] = suggessions.get(mutual,0)+1\n",
    "    sorted_suggestions = sorted(suggessions.items(), key=lambda x:x[1], reverse=True)\n",
    "    return [user_id for user_id,count in sorted_suggestions] \n",
    "                 \n",
    "                 \n",
    "    \n",
    "\n",
    "\n",
    "# load the data\n",
    "data = load_file(\"massive_data.json\")\n",
    "user_id = 1\n",
    "recommendations = find_people_you_may_know(user_id,data)\n",
    "print(f\"People You May Know for User {user_id}: {recommendations}\")\n",
    "\n",
    "    "
   ]
  },
  {
   "cell_type": "code",
   "execution_count": null,
   "id": "5f8775e8-59f3-4bf9-bbe5-2349e16c0372",
   "metadata": {},
   "outputs": [],
   "source": []
  },
  {
   "cell_type": "code",
   "execution_count": null,
   "id": "cdda4f36-0ba9-47dd-8e16-6ee13e12588b",
   "metadata": {},
   "outputs": [],
   "source": []
  }
 ],
 "metadata": {
  "kernelspec": {
   "display_name": "Python [conda env:base] *",
   "language": "python",
   "name": "conda-base-py"
  },
  "language_info": {
   "codemirror_mode": {
    "name": "ipython",
    "version": 3
   },
   "file_extension": ".py",
   "mimetype": "text/x-python",
   "name": "python",
   "nbconvert_exporter": "python",
   "pygments_lexer": "ipython3",
   "version": "3.12.7"
  }
 },
 "nbformat": 4,
 "nbformat_minor": 5
}
